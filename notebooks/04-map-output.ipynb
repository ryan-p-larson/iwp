{
 "cells": [
  {
   "cell_type": "code",
   "execution_count": 1,
   "metadata": {
    "collapsed": true
   },
   "outputs": [],
   "source": [
    "import pandas as pd\n",
    "import geopandas as gpd"
   ]
  },
  {
   "cell_type": "code",
   "execution_count": 2,
   "metadata": {},
   "outputs": [],
   "source": [
    "student_f = '../data/canonical/student_data.csv'\n",
    "student_df = pd.read_csv(student_f)\n",
    "\n",
    "country_f = '../data/canonical/country_counts.csv'\n",
    "country_df = pd.read_csv(country_f)\n",
    "\n",
    "outreach_f = '../data/canonical/outreach-programs.csv'\n",
    "outreach_df = pd.read_csv(outreach_f)"
   ]
  },
  {
   "cell_type": "code",
   "execution_count": 3,
   "metadata": {
    "collapsed": true
   },
   "outputs": [],
   "source": [
    "map_f = '../data/maps/earth/ne_10m_admin_0_map_units.shp'\n",
    "\n",
    "map_df = gpd.read_file(map_f)"
   ]
  },
  {
   "cell_type": "code",
   "execution_count": 4,
   "metadata": {},
   "outputs": [
    {
     "data": {
      "text/plain": [
       "Index(['ABBREV', 'ABBREV_LEN', 'ADM0_A3', 'ADM0_A3_IS', 'ADM0_A3_UN',\n",
       "       'ADM0_A3_US', 'ADM0_A3_WB', 'ADM0_DIF', 'ADMIN', 'BRK_A3', 'BRK_DIFF',\n",
       "       'BRK_GROUP', 'BRK_NAME', 'CONTINENT', 'ECONOMY', 'FIPS_10_',\n",
       "       'FORMAL_EN', 'FORMAL_FR', 'GDP_MD_EST', 'GDP_YEAR', 'GEOUNIT',\n",
       "       'GEOU_DIF', 'GU_A3', 'HOMEPART', 'INCOME_GRP', 'ISO_A2', 'ISO_A3',\n",
       "       'ISO_N3', 'LABELRANK', 'LASTCENSUS', 'LEVEL', 'LONG_LEN', 'MAPCOLOR13',\n",
       "       'MAPCOLOR7', 'MAPCOLOR8', 'MAPCOLOR9', 'NAME', 'NAME_ALT', 'NAME_LEN',\n",
       "       'NAME_LONG', 'NAME_SORT', 'NOTE_ADM0', 'NOTE_BRK', 'POP_EST',\n",
       "       'POP_YEAR', 'POSTAL', 'REGION_UN', 'REGION_WB', 'SOVEREIGNT', 'SOV_A3',\n",
       "       'SUBREGION', 'SUBUNIT', 'SU_A3', 'SU_DIF', 'TINY', 'TYPE', 'UN_A3',\n",
       "       'WB_A2', 'WB_A3', 'WIKIPEDIA', 'WOE_ID', 'WOE_ID_EH', 'WOE_NOTE',\n",
       "       'featurecla', 'geometry', 'scalerank'],\n",
       "      dtype='object')"
      ]
     },
     "execution_count": 4,
     "metadata": {},
     "output_type": "execute_result"
    }
   ],
   "source": [
    "map_df.columns"
   ]
  },
  {
   "cell_type": "code",
   "execution_count": 15,
   "metadata": {
    "collapsed": true
   },
   "outputs": [],
   "source": [
    "# filter antartica\n",
    "map_df = map_df[map_df['ADM0_A3'] != 'ATA']\n",
    "\n",
    "# filter columns here\n",
    "# to do\n"
   ]
  },
  {
   "cell_type": "code",
   "execution_count": 16,
   "metadata": {},
   "outputs": [
    {
     "name": "stdout",
     "output_type": "stream",
     "text": [
      "\u001b[0m\u001b[01;32m110m.json\u001b[0m*  \u001b[01;32mcountries.geo.json\u001b[0m*  \u001b[34;42mearth\u001b[0m/\r\n"
     ]
    }
   ],
   "source": [
    "%ls ../data/maps/"
   ]
  },
  {
   "cell_type": "code",
   "execution_count": null,
   "metadata": {
    "collapsed": true
   },
   "outputs": [],
   "source": [
    "# country codes json\n",
    "# https://comtrade.un.org/data/cache/partnerAreas.json"
   ]
  }
 ],
 "metadata": {
  "kernelspec": {
   "display_name": "Python 3",
   "language": "python",
   "name": "python3"
  },
  "language_info": {
   "codemirror_mode": {
    "name": "ipython",
    "version": 3
   },
   "file_extension": ".py",
   "mimetype": "text/x-python",
   "name": "python",
   "nbconvert_exporter": "python",
   "pygments_lexer": "ipython3",
   "version": "3.6.1"
  }
 },
 "nbformat": 4,
 "nbformat_minor": 2
}
