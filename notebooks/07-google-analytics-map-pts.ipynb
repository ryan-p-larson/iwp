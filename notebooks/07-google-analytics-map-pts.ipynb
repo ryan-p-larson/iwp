{
 "cells": [
  {
   "cell_type": "markdown",
   "metadata": {},
   "source": [
    "# Map Creation\n",
    "\n",
    "Merging the MOOC Metrics (`mooc-metrics.csv`) with a map. Merging on country ISO code, as provided by Google Analytics."
   ]
  },
  {
   "cell_type": "code",
   "execution_count": 1,
   "metadata": {
    "collapsed": true
   },
   "outputs": [],
   "source": [
    "import pandas as pd\n",
    "import geopandas as gpd\n",
    "import lxml"
   ]
  },
  {
   "cell_type": "code",
   "execution_count": 20,
   "metadata": {},
   "outputs": [
    {
     "data": {
      "text/html": [
       "<div>\n",
       "<style>\n",
       "    .dataframe thead tr:only-child th {\n",
       "        text-align: right;\n",
       "    }\n",
       "\n",
       "    .dataframe thead th {\n",
       "        text-align: left;\n",
       "    }\n",
       "\n",
       "    .dataframe tbody tr th {\n",
       "        vertical-align: top;\n",
       "    }\n",
       "</style>\n",
       "<table border=\"1\" class=\"dataframe\">\n",
       "  <thead>\n",
       "    <tr style=\"text-align: right;\">\n",
       "      <th></th>\n",
       "      <th>latitude</th>\n",
       "      <th>longitude</th>\n",
       "    </tr>\n",
       "  </thead>\n",
       "  <tbody>\n",
       "    <tr>\n",
       "      <th>count</th>\n",
       "      <td>244.000000</td>\n",
       "      <td>244.000000</td>\n",
       "    </tr>\n",
       "    <tr>\n",
       "      <th>mean</th>\n",
       "      <td>16.253109</td>\n",
       "      <td>13.294814</td>\n",
       "    </tr>\n",
       "    <tr>\n",
       "      <th>std</th>\n",
       "      <td>27.031206</td>\n",
       "      <td>73.976477</td>\n",
       "    </tr>\n",
       "    <tr>\n",
       "      <th>min</th>\n",
       "      <td>-75.250973</td>\n",
       "      <td>-177.156097</td>\n",
       "    </tr>\n",
       "    <tr>\n",
       "      <th>25%</th>\n",
       "      <td>-0.301710</td>\n",
       "      <td>-38.092008</td>\n",
       "    </tr>\n",
       "    <tr>\n",
       "      <th>50%</th>\n",
       "      <td>16.869235</td>\n",
       "      <td>18.182149</td>\n",
       "    </tr>\n",
       "    <tr>\n",
       "      <th>75%</th>\n",
       "      <td>38.965238</td>\n",
       "      <td>49.046734</td>\n",
       "    </tr>\n",
       "    <tr>\n",
       "      <th>max</th>\n",
       "      <td>77.553604</td>\n",
       "      <td>179.414413</td>\n",
       "    </tr>\n",
       "  </tbody>\n",
       "</table>\n",
       "</div>"
      ],
      "text/plain": [
       "         latitude   longitude\n",
       "count  244.000000  244.000000\n",
       "mean    16.253109   13.294814\n",
       "std     27.031206   73.976477\n",
       "min    -75.250973 -177.156097\n",
       "25%     -0.301710  -38.092008\n",
       "50%     16.869235   18.182149\n",
       "75%     38.965238   49.046734\n",
       "max     77.553604  179.414413"
      ]
     },
     "execution_count": 20,
     "metadata": {},
     "output_type": "execute_result"
    }
   ],
   "source": [
    "cols_google = ['country', 'latitude', 'longitude', 'name']\n",
    "html_scrape = pd.read_html(\"https://developers.google.com/public-data/docs/canonical/countries_csv\", skiprows=1)\n",
    "\n",
    "country_capitals = html_scrape[0]\n",
    "country_capitals.columns = cols_google\n",
    "\n",
    "country_capitals.describe()"
   ]
  },
  {
   "cell_type": "code",
   "execution_count": 21,
   "metadata": {},
   "outputs": [
    {
     "data": {
      "text/html": [
       "<div>\n",
       "<style>\n",
       "    .dataframe thead tr:only-child th {\n",
       "        text-align: right;\n",
       "    }\n",
       "\n",
       "    .dataframe thead th {\n",
       "        text-align: left;\n",
       "    }\n",
       "\n",
       "    .dataframe tbody tr th {\n",
       "        vertical-align: top;\n",
       "    }\n",
       "</style>\n",
       "<table border=\"1\" class=\"dataframe\">\n",
       "  <thead>\n",
       "    <tr style=\"text-align: right;\">\n",
       "      <th></th>\n",
       "      <th>country</th>\n",
       "      <th>latitude</th>\n",
       "      <th>longitude</th>\n",
       "      <th>name</th>\n",
       "    </tr>\n",
       "  </thead>\n",
       "  <tbody>\n",
       "    <tr>\n",
       "      <th>0</th>\n",
       "      <td>AD</td>\n",
       "      <td>42.546245</td>\n",
       "      <td>1.601554</td>\n",
       "      <td>Andorra</td>\n",
       "    </tr>\n",
       "    <tr>\n",
       "      <th>1</th>\n",
       "      <td>AE</td>\n",
       "      <td>23.424076</td>\n",
       "      <td>53.847818</td>\n",
       "      <td>United Arab Emirates</td>\n",
       "    </tr>\n",
       "    <tr>\n",
       "      <th>2</th>\n",
       "      <td>AF</td>\n",
       "      <td>33.939110</td>\n",
       "      <td>67.709953</td>\n",
       "      <td>Afghanistan</td>\n",
       "    </tr>\n",
       "    <tr>\n",
       "      <th>3</th>\n",
       "      <td>AG</td>\n",
       "      <td>17.060816</td>\n",
       "      <td>-61.796428</td>\n",
       "      <td>Antigua and Barbuda</td>\n",
       "    </tr>\n",
       "    <tr>\n",
       "      <th>4</th>\n",
       "      <td>AI</td>\n",
       "      <td>18.220554</td>\n",
       "      <td>-63.068615</td>\n",
       "      <td>Anguilla</td>\n",
       "    </tr>\n",
       "  </tbody>\n",
       "</table>\n",
       "</div>"
      ],
      "text/plain": [
       "  country   latitude  longitude                  name\n",
       "0      AD  42.546245   1.601554               Andorra\n",
       "1      AE  23.424076  53.847818  United Arab Emirates\n",
       "2      AF  33.939110  67.709953           Afghanistan\n",
       "3      AG  17.060816 -61.796428   Antigua and Barbuda\n",
       "4      AI  18.220554 -63.068615              Anguilla"
      ]
     },
     "execution_count": 21,
     "metadata": {},
     "output_type": "execute_result"
    }
   ],
   "source": [
    "country_capitals.head()"
   ]
  },
  {
   "cell_type": "markdown",
   "metadata": {},
   "source": [
    "### Countries\n",
    "\n",
    "Read in the countries and slim down to just the population (for adjusted rates), name, and ISO A2."
   ]
  },
  {
   "cell_type": "code",
   "execution_count": 22,
   "metadata": {
    "collapsed": true
   },
   "outputs": [],
   "source": [
    "ne_50m = '../data/maps/ne_50m_admin_0_countries.geojson'\n",
    "countries = gpd.read_file(ne_50m)"
   ]
  },
  {
   "cell_type": "code",
   "execution_count": 23,
   "metadata": {},
   "outputs": [
    {
     "data": {
      "text/plain": [
       "Index(['abbrev', 'abbrev_len', 'adm0_a3', 'adm0_a3_is', 'adm0_a3_un',\n",
       "       'adm0_a3_us', 'adm0_a3_wb', 'adm0_dif', 'admin', 'brk_a3', 'brk_diff',\n",
       "       'brk_group', 'brk_name', 'continent', 'economy', 'featurecla',\n",
       "       'fips_10', 'formal_en', 'formal_fr', 'gdp_md_est', 'gdp_year',\n",
       "       'geometry', 'geou_dif', 'geounit', 'gu_a3', 'homepart', 'income_grp',\n",
       "       'iso_a2', 'iso_a3', 'iso_n3', 'labelrank', 'lastcensus', 'level',\n",
       "       'long_len', 'mapcolor13', 'mapcolor7', 'mapcolor8', 'mapcolor9', 'name',\n",
       "       'name_alt', 'name_len', 'name_long', 'name_sort', 'note_adm0',\n",
       "       'note_brk', 'pop_est', 'pop_year', 'postal', 'region_un', 'region_wb',\n",
       "       'scalerank', 'sov_a3', 'sovereignt', 'su_a3', 'su_dif', 'subregion',\n",
       "       'subunit', 'tiny', 'type', 'un_a3', 'wb_a2', 'wb_a3', 'wikipedia',\n",
       "       'woe_id'],\n",
       "      dtype='object')"
      ]
     },
     "execution_count": 23,
     "metadata": {},
     "output_type": "execute_result"
    }
   ],
   "source": [
    "countries.columns"
   ]
  },
  {
   "cell_type": "code",
   "execution_count": 24,
   "metadata": {},
   "outputs": [
    {
     "data": {
      "text/html": [
       "<div>\n",
       "<style>\n",
       "    .dataframe thead tr:only-child th {\n",
       "        text-align: right;\n",
       "    }\n",
       "\n",
       "    .dataframe thead th {\n",
       "        text-align: left;\n",
       "    }\n",
       "\n",
       "    .dataframe tbody tr th {\n",
       "        vertical-align: top;\n",
       "    }\n",
       "</style>\n",
       "<table border=\"1\" class=\"dataframe\">\n",
       "  <thead>\n",
       "    <tr style=\"text-align: right;\">\n",
       "      <th></th>\n",
       "      <th>iso_a2</th>\n",
       "      <th>pop_est</th>\n",
       "    </tr>\n",
       "  </thead>\n",
       "  <tbody>\n",
       "    <tr>\n",
       "      <th>0</th>\n",
       "      <td>AW</td>\n",
       "      <td>103065.0</td>\n",
       "    </tr>\n",
       "    <tr>\n",
       "      <th>1</th>\n",
       "      <td>AF</td>\n",
       "      <td>28400000.0</td>\n",
       "    </tr>\n",
       "    <tr>\n",
       "      <th>2</th>\n",
       "      <td>AO</td>\n",
       "      <td>12799293.0</td>\n",
       "    </tr>\n",
       "    <tr>\n",
       "      <th>3</th>\n",
       "      <td>AI</td>\n",
       "      <td>14436.0</td>\n",
       "    </tr>\n",
       "    <tr>\n",
       "      <th>4</th>\n",
       "      <td>AL</td>\n",
       "      <td>3639453.0</td>\n",
       "    </tr>\n",
       "  </tbody>\n",
       "</table>\n",
       "</div>"
      ],
      "text/plain": [
       "  iso_a2     pop_est\n",
       "0     AW    103065.0\n",
       "1     AF  28400000.0\n",
       "2     AO  12799293.0\n",
       "3     AI     14436.0\n",
       "4     AL   3639453.0"
      ]
     },
     "execution_count": 24,
     "metadata": {},
     "output_type": "execute_result"
    }
   ],
   "source": [
    "pop_df = countries[['iso_a2', 'pop_est']]\n",
    "pop_df.head()"
   ]
  },
  {
   "cell_type": "markdown",
   "metadata": {},
   "source": [
    "### MOOC Metrics"
   ]
  },
  {
   "cell_type": "code",
   "execution_count": 25,
   "metadata": {},
   "outputs": [
    {
     "name": "stdout",
     "output_type": "stream",
     "text": [
      "1071 rows\n"
     ]
    },
    {
     "data": {
      "text/html": [
       "<div>\n",
       "<style>\n",
       "    .dataframe thead tr:only-child th {\n",
       "        text-align: right;\n",
       "    }\n",
       "\n",
       "    .dataframe thead th {\n",
       "        text-align: left;\n",
       "    }\n",
       "\n",
       "    .dataframe tbody tr th {\n",
       "        vertical-align: top;\n",
       "    }\n",
       "</style>\n",
       "<table border=\"1\" class=\"dataframe\">\n",
       "  <thead>\n",
       "    <tr style=\"text-align: right;\">\n",
       "      <th></th>\n",
       "      <th>year</th>\n",
       "      <th>country</th>\n",
       "      <th>page</th>\n",
       "      <th>new_users</th>\n",
       "      <th>uniq_pg_views</th>\n",
       "      <th>pg_views</th>\n",
       "    </tr>\n",
       "  </thead>\n",
       "  <tbody>\n",
       "    <tr>\n",
       "      <th>0</th>\n",
       "      <td>2017</td>\n",
       "      <td>BD</td>\n",
       "      <td>poetry-and-plays-2017</td>\n",
       "      <td>6975</td>\n",
       "      <td>8331</td>\n",
       "      <td>10151</td>\n",
       "    </tr>\n",
       "    <tr>\n",
       "      <th>1</th>\n",
       "      <td>2017</td>\n",
       "      <td>IN</td>\n",
       "      <td>poetry-and-plays-2017</td>\n",
       "      <td>3819</td>\n",
       "      <td>8556</td>\n",
       "      <td>12849</td>\n",
       "    </tr>\n",
       "    <tr>\n",
       "      <th>2</th>\n",
       "      <td>2017</td>\n",
       "      <td>NP</td>\n",
       "      <td>poetry-and-plays-2017</td>\n",
       "      <td>1866</td>\n",
       "      <td>2517</td>\n",
       "      <td>3236</td>\n",
       "    </tr>\n",
       "    <tr>\n",
       "      <th>3</th>\n",
       "      <td>2017</td>\n",
       "      <td>PK</td>\n",
       "      <td>poetry-and-plays-2017</td>\n",
       "      <td>1372</td>\n",
       "      <td>2171</td>\n",
       "      <td>2916</td>\n",
       "    </tr>\n",
       "    <tr>\n",
       "      <th>4</th>\n",
       "      <td>2017</td>\n",
       "      <td>IN</td>\n",
       "      <td>fiction-and-nonfiction-2017</td>\n",
       "      <td>1711</td>\n",
       "      <td>12900</td>\n",
       "      <td>20355</td>\n",
       "    </tr>\n",
       "  </tbody>\n",
       "</table>\n",
       "</div>"
      ],
      "text/plain": [
       "   year country                         page  new_users  uniq_pg_views  \\\n",
       "0  2017      BD        poetry-and-plays-2017       6975           8331   \n",
       "1  2017      IN        poetry-and-plays-2017       3819           8556   \n",
       "2  2017      NP        poetry-and-plays-2017       1866           2517   \n",
       "3  2017      PK        poetry-and-plays-2017       1372           2171   \n",
       "4  2017      IN  fiction-and-nonfiction-2017       1711          12900   \n",
       "\n",
       "   pg_views  \n",
       "0     10151  \n",
       "1     12849  \n",
       "2      3236  \n",
       "3      2916  \n",
       "4     20355  "
      ]
     },
     "execution_count": 25,
     "metadata": {},
     "output_type": "execute_result"
    }
   ],
   "source": [
    "metrics_f = '../data/canonical/mooc-metrics.csv'\n",
    "metrics_df = pd.read_csv(metrics_f)\n",
    "\n",
    "print (\"{} rows\".format(len(metrics_df)))\n",
    "metrics_df.head()"
   ]
  },
  {
   "cell_type": "code",
   "execution_count": 26,
   "metadata": {},
   "outputs": [
    {
     "name": "stdout",
     "output_type": "stream",
     "text": [
      "ZZ\n",
      "SS\n",
      "BQ\n",
      "CW\n",
      "MF\n"
     ]
    }
   ],
   "source": [
    "# sanity check to make sure we can merge\n",
    "list_of_map_countries = country_capitals['country'].tolist()\n",
    "test_country = lambda x: x in list_of_map_countries\n",
    "\n",
    "for country in metrics_df['country'].unique().tolist():\n",
    "    if (test_country(country) == False):\n",
    "        print (country)"
   ]
  },
  {
   "cell_type": "code",
   "execution_count": 7,
   "metadata": {},
   "outputs": [
    {
     "data": {
      "text/plain": [
       "119    -99\n",
       "Name: iso_a2, dtype: object"
      ]
     },
     "execution_count": 7,
     "metadata": {},
     "output_type": "execute_result"
    }
   ],
   "source": [
    "country_df[country_df.name_sort == 'Kosovo']['iso_a2']"
   ]
  },
  {
   "cell_type": "code",
   "execution_count": 27,
   "metadata": {},
   "outputs": [
    {
     "data": {
      "text/html": [
       "<div>\n",
       "<style>\n",
       "    .dataframe thead tr:only-child th {\n",
       "        text-align: right;\n",
       "    }\n",
       "\n",
       "    .dataframe thead th {\n",
       "        text-align: left;\n",
       "    }\n",
       "\n",
       "    .dataframe tbody tr th {\n",
       "        vertical-align: top;\n",
       "    }\n",
       "</style>\n",
       "<table border=\"1\" class=\"dataframe\">\n",
       "  <thead>\n",
       "    <tr style=\"text-align: right;\">\n",
       "      <th></th>\n",
       "      <th>year</th>\n",
       "      <th>country</th>\n",
       "      <th>page</th>\n",
       "      <th>new_users</th>\n",
       "      <th>uniq_pg_views</th>\n",
       "      <th>pg_views</th>\n",
       "    </tr>\n",
       "  </thead>\n",
       "  <tbody>\n",
       "    <tr>\n",
       "      <th>162</th>\n",
       "      <td>2016</td>\n",
       "      <td>ZZ</td>\n",
       "      <td>how-writers-write-fiction-2016</td>\n",
       "      <td>64</td>\n",
       "      <td>87</td>\n",
       "      <td>118</td>\n",
       "    </tr>\n",
       "    <tr>\n",
       "      <th>227</th>\n",
       "      <td>2017</td>\n",
       "      <td>ZZ</td>\n",
       "      <td>fiction-and-nonfiction-2017</td>\n",
       "      <td>48</td>\n",
       "      <td>112</td>\n",
       "      <td>210</td>\n",
       "    </tr>\n",
       "    <tr>\n",
       "      <th>261</th>\n",
       "      <td>2017</td>\n",
       "      <td>ZZ</td>\n",
       "      <td>poetry-and-plays-2017</td>\n",
       "      <td>31</td>\n",
       "      <td>49</td>\n",
       "      <td>63</td>\n",
       "    </tr>\n",
       "    <tr>\n",
       "      <th>367</th>\n",
       "      <td>2017</td>\n",
       "      <td>SS</td>\n",
       "      <td>poetry-and-plays-2017</td>\n",
       "      <td>17</td>\n",
       "      <td>19</td>\n",
       "      <td>21</td>\n",
       "    </tr>\n",
       "    <tr>\n",
       "      <th>438</th>\n",
       "      <td>2016</td>\n",
       "      <td>ZZ</td>\n",
       "      <td>whitman-2016</td>\n",
       "      <td>18</td>\n",
       "      <td>44</td>\n",
       "      <td>56</td>\n",
       "    </tr>\n",
       "    <tr>\n",
       "      <th>469</th>\n",
       "      <td>2015</td>\n",
       "      <td>ZZ</td>\n",
       "      <td>how-writers-write-fiction-2015</td>\n",
       "      <td>35</td>\n",
       "      <td>239</td>\n",
       "      <td>315</td>\n",
       "    </tr>\n",
       "    <tr>\n",
       "      <th>498</th>\n",
       "      <td>2017</td>\n",
       "      <td>SS</td>\n",
       "      <td>fiction-and-nonfiction-2017</td>\n",
       "      <td>10</td>\n",
       "      <td>11</td>\n",
       "      <td>15</td>\n",
       "    </tr>\n",
       "    <tr>\n",
       "      <th>545</th>\n",
       "      <td>2016</td>\n",
       "      <td>ZZ</td>\n",
       "      <td>how-writers-write-fiction-2015</td>\n",
       "      <td>7</td>\n",
       "      <td>9</td>\n",
       "      <td>10</td>\n",
       "    </tr>\n",
       "    <tr>\n",
       "      <th>584</th>\n",
       "      <td>2017</td>\n",
       "      <td>GF</td>\n",
       "      <td>poetry-and-plays-2017</td>\n",
       "      <td>6</td>\n",
       "      <td>6</td>\n",
       "      <td>6</td>\n",
       "    </tr>\n",
       "    <tr>\n",
       "      <th>745</th>\n",
       "      <td>2017</td>\n",
       "      <td>RE</td>\n",
       "      <td>poetry-and-plays-2017</td>\n",
       "      <td>4</td>\n",
       "      <td>5</td>\n",
       "      <td>5</td>\n",
       "    </tr>\n",
       "    <tr>\n",
       "      <th>788</th>\n",
       "      <td>2016</td>\n",
       "      <td>BQ</td>\n",
       "      <td>how-writers-write-fiction-2015</td>\n",
       "      <td>2</td>\n",
       "      <td>5</td>\n",
       "      <td>5</td>\n",
       "    </tr>\n",
       "    <tr>\n",
       "      <th>904</th>\n",
       "      <td>2017</td>\n",
       "      <td>YT</td>\n",
       "      <td>poetry-and-plays-2017</td>\n",
       "      <td>2</td>\n",
       "      <td>2</td>\n",
       "      <td>2</td>\n",
       "    </tr>\n",
       "    <tr>\n",
       "      <th>905</th>\n",
       "      <td>2017</td>\n",
       "      <td>ZZ</td>\n",
       "      <td>how-writers-write-fiction-2015</td>\n",
       "      <td>2</td>\n",
       "      <td>2</td>\n",
       "      <td>2</td>\n",
       "    </tr>\n",
       "    <tr>\n",
       "      <th>916</th>\n",
       "      <td>2015</td>\n",
       "      <td>CW</td>\n",
       "      <td>how-writers-write-fiction-2015</td>\n",
       "      <td>1</td>\n",
       "      <td>1</td>\n",
       "      <td>1</td>\n",
       "    </tr>\n",
       "    <tr>\n",
       "      <th>938</th>\n",
       "      <td>2015</td>\n",
       "      <td>RE</td>\n",
       "      <td>how-writers-write-fiction-2015</td>\n",
       "      <td>1</td>\n",
       "      <td>6</td>\n",
       "      <td>7</td>\n",
       "    </tr>\n",
       "    <tr>\n",
       "      <th>1037</th>\n",
       "      <td>2016</td>\n",
       "      <td>MQ</td>\n",
       "      <td>how-writers-write-fiction-2015</td>\n",
       "      <td>1</td>\n",
       "      <td>1</td>\n",
       "      <td>1</td>\n",
       "    </tr>\n",
       "    <tr>\n",
       "      <th>1064</th>\n",
       "      <td>2016</td>\n",
       "      <td>RE</td>\n",
       "      <td>whitman-2016</td>\n",
       "      <td>1</td>\n",
       "      <td>1</td>\n",
       "      <td>1</td>\n",
       "    </tr>\n",
       "  </tbody>\n",
       "</table>\n",
       "</div>"
      ],
      "text/plain": [
       "      year country                            page  new_users  uniq_pg_views  \\\n",
       "162   2016      ZZ  how-writers-write-fiction-2016         64             87   \n",
       "227   2017      ZZ     fiction-and-nonfiction-2017         48            112   \n",
       "261   2017      ZZ           poetry-and-plays-2017         31             49   \n",
       "367   2017      SS           poetry-and-plays-2017         17             19   \n",
       "438   2016      ZZ                    whitman-2016         18             44   \n",
       "469   2015      ZZ  how-writers-write-fiction-2015         35            239   \n",
       "498   2017      SS     fiction-and-nonfiction-2017         10             11   \n",
       "545   2016      ZZ  how-writers-write-fiction-2015          7              9   \n",
       "584   2017      GF           poetry-and-plays-2017          6              6   \n",
       "745   2017      RE           poetry-and-plays-2017          4              5   \n",
       "788   2016      BQ  how-writers-write-fiction-2015          2              5   \n",
       "904   2017      YT           poetry-and-plays-2017          2              2   \n",
       "905   2017      ZZ  how-writers-write-fiction-2015          2              2   \n",
       "916   2015      CW  how-writers-write-fiction-2015          1              1   \n",
       "938   2015      RE  how-writers-write-fiction-2015          1              6   \n",
       "1037  2016      MQ  how-writers-write-fiction-2015          1              1   \n",
       "1064  2016      RE                    whitman-2016          1              1   \n",
       "\n",
       "      pg_views  \n",
       "162        118  \n",
       "227        210  \n",
       "261         63  \n",
       "367         21  \n",
       "438         56  \n",
       "469        315  \n",
       "498         15  \n",
       "545         10  \n",
       "584          6  \n",
       "745          5  \n",
       "788          5  \n",
       "904          2  \n",
       "905          2  \n",
       "916          1  \n",
       "938          7  \n",
       "1037         1  \n",
       "1064         1  "
      ]
     },
     "execution_count": 27,
     "metadata": {},
     "output_type": "execute_result"
    }
   ],
   "source": [
    "bad_isos = ['nan', 'ZZ', 'GF', 'RE', 'BQ', 'YT', 'MQ', 'SS', 'CW']\n",
    "\n",
    "mask_bad_iso = lambda x: (metrics_df['country'].isin(bad_isos))\n",
    "\n",
    "metrics_df[mask_bad_iso]"
   ]
  },
  {
   "cell_type": "code",
   "execution_count": 30,
   "metadata": {},
   "outputs": [
    {
     "name": "stderr",
     "output_type": "stream",
     "text": [
      "C:\\Users\\rlrson\\AppData\\Local\\conda\\conda\\envs\\gviz\\lib\\site-packages\\pandas\\core\\indexing.py:517: SettingWithCopyWarning: \n",
      "A value is trying to be set on a copy of a slice from a DataFrame.\n",
      "Try using .loc[row_indexer,col_indexer] = value instead\n",
      "\n",
      "See the caveats in the documentation: http://pandas.pydata.org/pandas-docs/stable/indexing.html#indexing-view-versus-copy\n",
      "  self.obj[item] = s\n"
     ]
    }
   ],
   "source": [
    "# reassign the ISO_A2 for kosovo\n",
    "# Change source to change it easier\n",
    "\n",
    "mask_koso_src = (pop_df['iso_a2'] == -99)\n",
    "pop_df.loc[mask_koso_src, 'iso_a2'] = 'XK'"
   ]
  },
  {
   "cell_type": "code",
   "execution_count": 31,
   "metadata": {},
   "outputs": [
    {
     "name": "stdout",
     "output_type": "stream",
     "text": [
      "1054 rows\n"
     ]
    }
   ],
   "source": [
    "# keep only the identified countries\n",
    "mask_good_iso = lambda x: (~metrics_df['country'].isin(bad_isos))\n",
    "\n",
    "export_df = metrics_df[mask_good_iso]\n",
    "\n",
    "print (\"{} rows\".format(len(export_df)))"
   ]
  },
  {
   "cell_type": "markdown",
   "metadata": {},
   "source": [
    "### Merging"
   ]
  },
  {
   "cell_type": "code",
   "execution_count": 35,
   "metadata": {},
   "outputs": [],
   "source": [
    "# get rid of antartica\n",
    "pop_df = pop_df[pop_df.iso_a2 != 'AQ']\n",
    "\n",
    "# rename the columns\n",
    "pop_df.columns = ['iso', 'population']"
   ]
  },
  {
   "cell_type": "markdown",
   "metadata": {},
   "source": [
    "### Merging\n",
    "\n",
    "1. Google's country capitals merge with Natural Earth populations.\n",
    "... tbd"
   ]
  },
  {
   "cell_type": "code",
   "execution_count": 39,
   "metadata": {},
   "outputs": [
    {
     "data": {
      "text/html": [
       "<div>\n",
       "<style>\n",
       "    .dataframe thead tr:only-child th {\n",
       "        text-align: right;\n",
       "    }\n",
       "\n",
       "    .dataframe thead th {\n",
       "        text-align: left;\n",
       "    }\n",
       "\n",
       "    .dataframe tbody tr th {\n",
       "        vertical-align: top;\n",
       "    }\n",
       "</style>\n",
       "<table border=\"1\" class=\"dataframe\">\n",
       "  <thead>\n",
       "    <tr style=\"text-align: right;\">\n",
       "      <th></th>\n",
       "      <th>iso</th>\n",
       "      <th>population</th>\n",
       "    </tr>\n",
       "  </thead>\n",
       "  <tbody>\n",
       "    <tr>\n",
       "      <th>0</th>\n",
       "      <td>AW</td>\n",
       "      <td>103065.0</td>\n",
       "    </tr>\n",
       "    <tr>\n",
       "      <th>1</th>\n",
       "      <td>AF</td>\n",
       "      <td>28400000.0</td>\n",
       "    </tr>\n",
       "    <tr>\n",
       "      <th>2</th>\n",
       "      <td>AO</td>\n",
       "      <td>12799293.0</td>\n",
       "    </tr>\n",
       "    <tr>\n",
       "      <th>3</th>\n",
       "      <td>AI</td>\n",
       "      <td>14436.0</td>\n",
       "    </tr>\n",
       "    <tr>\n",
       "      <th>4</th>\n",
       "      <td>AL</td>\n",
       "      <td>3639453.0</td>\n",
       "    </tr>\n",
       "  </tbody>\n",
       "</table>\n",
       "</div>"
      ],
      "text/plain": [
       "  iso  population\n",
       "0  AW    103065.0\n",
       "1  AF  28400000.0\n",
       "2  AO  12799293.0\n",
       "3  AI     14436.0\n",
       "4  AL   3639453.0"
      ]
     },
     "execution_count": 39,
     "metadata": {},
     "output_type": "execute_result"
    }
   ],
   "source": [
    "pop_df.head()"
   ]
  },
  {
   "cell_type": "code",
   "execution_count": 38,
   "metadata": {},
   "outputs": [
    {
     "data": {
      "text/html": [
       "<div>\n",
       "<style>\n",
       "    .dataframe thead tr:only-child th {\n",
       "        text-align: right;\n",
       "    }\n",
       "\n",
       "    .dataframe thead th {\n",
       "        text-align: left;\n",
       "    }\n",
       "\n",
       "    .dataframe tbody tr th {\n",
       "        vertical-align: top;\n",
       "    }\n",
       "</style>\n",
       "<table border=\"1\" class=\"dataframe\">\n",
       "  <thead>\n",
       "    <tr style=\"text-align: right;\">\n",
       "      <th></th>\n",
       "      <th>year</th>\n",
       "      <th>country</th>\n",
       "      <th>page</th>\n",
       "      <th>new_users</th>\n",
       "      <th>uniq_pg_views</th>\n",
       "      <th>pg_views</th>\n",
       "    </tr>\n",
       "  </thead>\n",
       "  <tbody>\n",
       "    <tr>\n",
       "      <th>0</th>\n",
       "      <td>2017</td>\n",
       "      <td>BD</td>\n",
       "      <td>poetry-and-plays-2017</td>\n",
       "      <td>6975</td>\n",
       "      <td>8331</td>\n",
       "      <td>10151</td>\n",
       "    </tr>\n",
       "    <tr>\n",
       "      <th>1</th>\n",
       "      <td>2017</td>\n",
       "      <td>IN</td>\n",
       "      <td>poetry-and-plays-2017</td>\n",
       "      <td>3819</td>\n",
       "      <td>8556</td>\n",
       "      <td>12849</td>\n",
       "    </tr>\n",
       "    <tr>\n",
       "      <th>2</th>\n",
       "      <td>2017</td>\n",
       "      <td>NP</td>\n",
       "      <td>poetry-and-plays-2017</td>\n",
       "      <td>1866</td>\n",
       "      <td>2517</td>\n",
       "      <td>3236</td>\n",
       "    </tr>\n",
       "    <tr>\n",
       "      <th>3</th>\n",
       "      <td>2017</td>\n",
       "      <td>PK</td>\n",
       "      <td>poetry-and-plays-2017</td>\n",
       "      <td>1372</td>\n",
       "      <td>2171</td>\n",
       "      <td>2916</td>\n",
       "    </tr>\n",
       "    <tr>\n",
       "      <th>4</th>\n",
       "      <td>2017</td>\n",
       "      <td>IN</td>\n",
       "      <td>fiction-and-nonfiction-2017</td>\n",
       "      <td>1711</td>\n",
       "      <td>12900</td>\n",
       "      <td>20355</td>\n",
       "    </tr>\n",
       "  </tbody>\n",
       "</table>\n",
       "</div>"
      ],
      "text/plain": [
       "   year country                         page  new_users  uniq_pg_views  \\\n",
       "0  2017      BD        poetry-and-plays-2017       6975           8331   \n",
       "1  2017      IN        poetry-and-plays-2017       3819           8556   \n",
       "2  2017      NP        poetry-and-plays-2017       1866           2517   \n",
       "3  2017      PK        poetry-and-plays-2017       1372           2171   \n",
       "4  2017      IN  fiction-and-nonfiction-2017       1711          12900   \n",
       "\n",
       "   pg_views  \n",
       "0     10151  \n",
       "1     12849  \n",
       "2      3236  \n",
       "3      2916  \n",
       "4     20355  "
      ]
     },
     "execution_count": 38,
     "metadata": {},
     "output_type": "execute_result"
    }
   ],
   "source": [
    "export_df.head()"
   ]
  },
  {
   "cell_type": "code",
   "execution_count": 40,
   "metadata": {},
   "outputs": [
    {
     "data": {
      "text/html": [
       "<div>\n",
       "<style>\n",
       "    .dataframe thead tr:only-child th {\n",
       "        text-align: right;\n",
       "    }\n",
       "\n",
       "    .dataframe thead th {\n",
       "        text-align: left;\n",
       "    }\n",
       "\n",
       "    .dataframe tbody tr th {\n",
       "        vertical-align: top;\n",
       "    }\n",
       "</style>\n",
       "<table border=\"1\" class=\"dataframe\">\n",
       "  <thead>\n",
       "    <tr style=\"text-align: right;\">\n",
       "      <th></th>\n",
       "      <th>country</th>\n",
       "      <th>latitude</th>\n",
       "      <th>longitude</th>\n",
       "      <th>name</th>\n",
       "    </tr>\n",
       "  </thead>\n",
       "  <tbody>\n",
       "    <tr>\n",
       "      <th>0</th>\n",
       "      <td>AD</td>\n",
       "      <td>42.546245</td>\n",
       "      <td>1.601554</td>\n",
       "      <td>Andorra</td>\n",
       "    </tr>\n",
       "    <tr>\n",
       "      <th>1</th>\n",
       "      <td>AE</td>\n",
       "      <td>23.424076</td>\n",
       "      <td>53.847818</td>\n",
       "      <td>United Arab Emirates</td>\n",
       "    </tr>\n",
       "    <tr>\n",
       "      <th>2</th>\n",
       "      <td>AF</td>\n",
       "      <td>33.939110</td>\n",
       "      <td>67.709953</td>\n",
       "      <td>Afghanistan</td>\n",
       "    </tr>\n",
       "    <tr>\n",
       "      <th>3</th>\n",
       "      <td>AG</td>\n",
       "      <td>17.060816</td>\n",
       "      <td>-61.796428</td>\n",
       "      <td>Antigua and Barbuda</td>\n",
       "    </tr>\n",
       "    <tr>\n",
       "      <th>4</th>\n",
       "      <td>AI</td>\n",
       "      <td>18.220554</td>\n",
       "      <td>-63.068615</td>\n",
       "      <td>Anguilla</td>\n",
       "    </tr>\n",
       "  </tbody>\n",
       "</table>\n",
       "</div>"
      ],
      "text/plain": [
       "  country   latitude  longitude                  name\n",
       "0      AD  42.546245   1.601554               Andorra\n",
       "1      AE  23.424076  53.847818  United Arab Emirates\n",
       "2      AF  33.939110  67.709953           Afghanistan\n",
       "3      AG  17.060816 -61.796428   Antigua and Barbuda\n",
       "4      AI  18.220554 -63.068615              Anguilla"
      ]
     },
     "execution_count": 40,
     "metadata": {},
     "output_type": "execute_result"
    }
   ],
   "source": [
    "country_capitals.head()"
   ]
  },
  {
   "cell_type": "code",
   "execution_count": 43,
   "metadata": {},
   "outputs": [
    {
     "name": "stdout",
     "output_type": "stream",
     "text": [
      "(245, 6)\n"
     ]
    },
    {
     "data": {
      "text/html": [
       "<div>\n",
       "<style>\n",
       "    .dataframe thead tr:only-child th {\n",
       "        text-align: right;\n",
       "    }\n",
       "\n",
       "    .dataframe thead th {\n",
       "        text-align: left;\n",
       "    }\n",
       "\n",
       "    .dataframe tbody tr th {\n",
       "        vertical-align: top;\n",
       "    }\n",
       "</style>\n",
       "<table border=\"1\" class=\"dataframe\">\n",
       "  <thead>\n",
       "    <tr style=\"text-align: right;\">\n",
       "      <th></th>\n",
       "      <th>country</th>\n",
       "      <th>latitude</th>\n",
       "      <th>longitude</th>\n",
       "      <th>name</th>\n",
       "      <th>iso</th>\n",
       "      <th>population</th>\n",
       "    </tr>\n",
       "  </thead>\n",
       "  <tbody>\n",
       "    <tr>\n",
       "      <th>0</th>\n",
       "      <td>AD</td>\n",
       "      <td>42.546245</td>\n",
       "      <td>1.601554</td>\n",
       "      <td>Andorra</td>\n",
       "      <td>AD</td>\n",
       "      <td>83888.0</td>\n",
       "    </tr>\n",
       "    <tr>\n",
       "      <th>1</th>\n",
       "      <td>AE</td>\n",
       "      <td>23.424076</td>\n",
       "      <td>53.847818</td>\n",
       "      <td>United Arab Emirates</td>\n",
       "      <td>AE</td>\n",
       "      <td>4798491.0</td>\n",
       "    </tr>\n",
       "    <tr>\n",
       "      <th>2</th>\n",
       "      <td>AF</td>\n",
       "      <td>33.939110</td>\n",
       "      <td>67.709953</td>\n",
       "      <td>Afghanistan</td>\n",
       "      <td>AF</td>\n",
       "      <td>28400000.0</td>\n",
       "    </tr>\n",
       "    <tr>\n",
       "      <th>3</th>\n",
       "      <td>AG</td>\n",
       "      <td>17.060816</td>\n",
       "      <td>-61.796428</td>\n",
       "      <td>Antigua and Barbuda</td>\n",
       "      <td>AG</td>\n",
       "      <td>85632.0</td>\n",
       "    </tr>\n",
       "    <tr>\n",
       "      <th>4</th>\n",
       "      <td>AI</td>\n",
       "      <td>18.220554</td>\n",
       "      <td>-63.068615</td>\n",
       "      <td>Anguilla</td>\n",
       "      <td>AI</td>\n",
       "      <td>14436.0</td>\n",
       "    </tr>\n",
       "  </tbody>\n",
       "</table>\n",
       "</div>"
      ],
      "text/plain": [
       "  country   latitude  longitude                  name iso  population\n",
       "0      AD  42.546245   1.601554               Andorra  AD     83888.0\n",
       "1      AE  23.424076  53.847818  United Arab Emirates  AE   4798491.0\n",
       "2      AF  33.939110  67.709953           Afghanistan  AF  28400000.0\n",
       "3      AG  17.060816 -61.796428   Antigua and Barbuda  AG     85632.0\n",
       "4      AI  18.220554 -63.068615              Anguilla  AI     14436.0"
      ]
     },
     "execution_count": 43,
     "metadata": {},
     "output_type": "execute_result"
    }
   ],
   "source": [
    "geo_df = country_capitals.merge(pop_df, left_on='country', right_on='iso', how='left')\n",
    "\n",
    "print (geo_df.shape)\n",
    "geo_df.head()"
   ]
  },
  {
   "cell_type": "code",
   "execution_count": 44,
   "metadata": {
    "collapsed": true
   },
   "outputs": [],
   "source": [
    "geo_df.drop('iso', axis=1, inplace=True)"
   ]
  },
  {
   "cell_type": "code",
   "execution_count": 63,
   "metadata": {},
   "outputs": [
    {
     "data": {
      "text/html": [
       "<div>\n",
       "<style>\n",
       "    .dataframe thead tr:only-child th {\n",
       "        text-align: right;\n",
       "    }\n",
       "\n",
       "    .dataframe thead th {\n",
       "        text-align: left;\n",
       "    }\n",
       "\n",
       "    .dataframe tbody tr th {\n",
       "        vertical-align: top;\n",
       "    }\n",
       "</style>\n",
       "<table border=\"1\" class=\"dataframe\">\n",
       "  <thead>\n",
       "    <tr style=\"text-align: right;\">\n",
       "      <th></th>\n",
       "      <th>year</th>\n",
       "      <th>country</th>\n",
       "      <th>page</th>\n",
       "      <th>new_users</th>\n",
       "      <th>uniq_pg_views</th>\n",
       "      <th>pg_views</th>\n",
       "      <th>population</th>\n",
       "    </tr>\n",
       "  </thead>\n",
       "  <tbody>\n",
       "    <tr>\n",
       "      <th>0</th>\n",
       "      <td>2017</td>\n",
       "      <td>BD</td>\n",
       "      <td>poetry-and-plays-2017</td>\n",
       "      <td>6975</td>\n",
       "      <td>8331</td>\n",
       "      <td>10151</td>\n",
       "      <td>1.560509e+08</td>\n",
       "    </tr>\n",
       "    <tr>\n",
       "      <th>1</th>\n",
       "      <td>2017</td>\n",
       "      <td>BD</td>\n",
       "      <td>fiction-and-nonfiction-2017</td>\n",
       "      <td>108</td>\n",
       "      <td>283</td>\n",
       "      <td>496</td>\n",
       "      <td>1.560509e+08</td>\n",
       "    </tr>\n",
       "    <tr>\n",
       "      <th>2</th>\n",
       "      <td>2016</td>\n",
       "      <td>BD</td>\n",
       "      <td>how-writers-write-fiction-2016</td>\n",
       "      <td>52</td>\n",
       "      <td>80</td>\n",
       "      <td>115</td>\n",
       "      <td>1.560509e+08</td>\n",
       "    </tr>\n",
       "    <tr>\n",
       "      <th>3</th>\n",
       "      <td>2016</td>\n",
       "      <td>BD</td>\n",
       "      <td>flash-write-2016</td>\n",
       "      <td>32</td>\n",
       "      <td>140</td>\n",
       "      <td>208</td>\n",
       "      <td>1.560509e+08</td>\n",
       "    </tr>\n",
       "    <tr>\n",
       "      <th>4</th>\n",
       "      <td>2015</td>\n",
       "      <td>BD</td>\n",
       "      <td>how-writers-write-fiction-2015</td>\n",
       "      <td>29</td>\n",
       "      <td>165</td>\n",
       "      <td>232</td>\n",
       "      <td>1.560509e+08</td>\n",
       "    </tr>\n",
       "    <tr>\n",
       "      <th>5</th>\n",
       "      <td>2016</td>\n",
       "      <td>BD</td>\n",
       "      <td>how-writers-write-fiction-2015</td>\n",
       "      <td>10</td>\n",
       "      <td>15</td>\n",
       "      <td>16</td>\n",
       "      <td>1.560509e+08</td>\n",
       "    </tr>\n",
       "    <tr>\n",
       "      <th>6</th>\n",
       "      <td>2016</td>\n",
       "      <td>BD</td>\n",
       "      <td>whitman-2016</td>\n",
       "      <td>10</td>\n",
       "      <td>12</td>\n",
       "      <td>12</td>\n",
       "      <td>1.560509e+08</td>\n",
       "    </tr>\n",
       "    <tr>\n",
       "      <th>7</th>\n",
       "      <td>2017</td>\n",
       "      <td>BD</td>\n",
       "      <td>how-writers-write-fiction-2016</td>\n",
       "      <td>2</td>\n",
       "      <td>2</td>\n",
       "      <td>2</td>\n",
       "      <td>1.560509e+08</td>\n",
       "    </tr>\n",
       "    <tr>\n",
       "      <th>8</th>\n",
       "      <td>2017</td>\n",
       "      <td>IN</td>\n",
       "      <td>poetry-and-plays-2017</td>\n",
       "      <td>3819</td>\n",
       "      <td>8556</td>\n",
       "      <td>12849</td>\n",
       "      <td>1.166079e+09</td>\n",
       "    </tr>\n",
       "    <tr>\n",
       "      <th>9</th>\n",
       "      <td>2017</td>\n",
       "      <td>IN</td>\n",
       "      <td>fiction-and-nonfiction-2017</td>\n",
       "      <td>1711</td>\n",
       "      <td>12900</td>\n",
       "      <td>20355</td>\n",
       "      <td>1.166079e+09</td>\n",
       "    </tr>\n",
       "  </tbody>\n",
       "</table>\n",
       "</div>"
      ],
      "text/plain": [
       "   year country                            page  new_users  uniq_pg_views  \\\n",
       "0  2017      BD           poetry-and-plays-2017       6975           8331   \n",
       "1  2017      BD     fiction-and-nonfiction-2017        108            283   \n",
       "2  2016      BD  how-writers-write-fiction-2016         52             80   \n",
       "3  2016      BD                flash-write-2016         32            140   \n",
       "4  2015      BD  how-writers-write-fiction-2015         29            165   \n",
       "5  2016      BD  how-writers-write-fiction-2015         10             15   \n",
       "6  2016      BD                    whitman-2016         10             12   \n",
       "7  2017      BD  how-writers-write-fiction-2016          2              2   \n",
       "8  2017      IN           poetry-and-plays-2017       3819           8556   \n",
       "9  2017      IN     fiction-and-nonfiction-2017       1711          12900   \n",
       "\n",
       "   pg_views    population  \n",
       "0     10151  1.560509e+08  \n",
       "1       496  1.560509e+08  \n",
       "2       115  1.560509e+08  \n",
       "3       208  1.560509e+08  \n",
       "4       232  1.560509e+08  \n",
       "5        16  1.560509e+08  \n",
       "6        12  1.560509e+08  \n",
       "7         2  1.560509e+08  \n",
       "8     12849  1.166079e+09  \n",
       "9     20355  1.166079e+09  "
      ]
     },
     "execution_count": 63,
     "metadata": {},
     "output_type": "execute_result"
    }
   ],
   "source": [
    "rate_df = export_df.merge(geo_df[['country', 'population']], on='country')\n",
    "rate_df.head(10)"
   ]
  },
  {
   "cell_type": "code",
   "execution_count": 64,
   "metadata": {
    "collapsed": true
   },
   "outputs": [],
   "source": [
    "# Calculate population adjusted rates\n",
    "rate_df['new_users_rate'] = rate_df['new_users'] / rate_df['population']\n",
    "rate_df['uniq_pg_views_rate'] = rate_df['uniq_pg_views'] / rate_df['population']\n",
    "rate_df['pg_views_rate'] = rate_df['pg_views'] / rate_df['population']"
   ]
  },
  {
   "cell_type": "markdown",
   "metadata": {},
   "source": [
    "### Convert lat long to point using GeoPandas.\n",
    "\n",
    "```\n",
    "from geopandas import GeoDataFrame\n",
    "from shapely.geometry import Point\n",
    "\n",
    "geometry = [Point(xy) for xy in zip(df.Lon, df.Lat)]\n",
    "df = df.drop(['Lon', 'Lat'], axis=1)\n",
    "crs = {'init': 'epsg:4326'}\n",
    "geo_df = GeoDataFrame(df, crs=crs, geometry=geometry)\n",
    "```"
   ]
  },
  {
   "cell_type": "code",
   "execution_count": 50,
   "metadata": {
    "collapsed": true
   },
   "outputs": [],
   "source": [
    "from shapely.geometry import Point"
   ]
  },
  {
   "cell_type": "code",
   "execution_count": 51,
   "metadata": {
    "collapsed": true
   },
   "outputs": [],
   "source": [
    "pts = [Point(xy) for xy in zip(geo_df.longitude, geo_df.latitude)]\n",
    "geo_df = geo_df.drop(['latitude', 'longitude'], axis=1)\n",
    "\n",
    "crs = {'init': 'epsg:4326'}"
   ]
  },
  {
   "cell_type": "code",
   "execution_count": 56,
   "metadata": {},
   "outputs": [
    {
     "data": {
      "text/html": [
       "<div>\n",
       "<style>\n",
       "    .dataframe thead tr:only-child th {\n",
       "        text-align: right;\n",
       "    }\n",
       "\n",
       "    .dataframe thead th {\n",
       "        text-align: left;\n",
       "    }\n",
       "\n",
       "    .dataframe tbody tr th {\n",
       "        vertical-align: top;\n",
       "    }\n",
       "</style>\n",
       "<table border=\"1\" class=\"dataframe\">\n",
       "  <thead>\n",
       "    <tr style=\"text-align: right;\">\n",
       "      <th></th>\n",
       "      <th>country</th>\n",
       "      <th>name</th>\n",
       "      <th>population</th>\n",
       "      <th>geometry</th>\n",
       "    </tr>\n",
       "  </thead>\n",
       "  <tbody>\n",
       "    <tr>\n",
       "      <th>0</th>\n",
       "      <td>AD</td>\n",
       "      <td>Andorra</td>\n",
       "      <td>83888.0</td>\n",
       "      <td>POINT (1.601554 42.546245)</td>\n",
       "    </tr>\n",
       "    <tr>\n",
       "      <th>1</th>\n",
       "      <td>AE</td>\n",
       "      <td>United Arab Emirates</td>\n",
       "      <td>4798491.0</td>\n",
       "      <td>POINT (53.847818 23.424076)</td>\n",
       "    </tr>\n",
       "    <tr>\n",
       "      <th>2</th>\n",
       "      <td>AF</td>\n",
       "      <td>Afghanistan</td>\n",
       "      <td>28400000.0</td>\n",
       "      <td>POINT (67.709953 33.93911)</td>\n",
       "    </tr>\n",
       "    <tr>\n",
       "      <th>3</th>\n",
       "      <td>AG</td>\n",
       "      <td>Antigua and Barbuda</td>\n",
       "      <td>85632.0</td>\n",
       "      <td>POINT (-61.79642800000001 17.060816)</td>\n",
       "    </tr>\n",
       "    <tr>\n",
       "      <th>4</th>\n",
       "      <td>AI</td>\n",
       "      <td>Anguilla</td>\n",
       "      <td>14436.0</td>\n",
       "      <td>POINT (-63.068615 18.220554)</td>\n",
       "    </tr>\n",
       "  </tbody>\n",
       "</table>\n",
       "</div>"
      ],
      "text/plain": [
       "  country                  name  population  \\\n",
       "0      AD               Andorra     83888.0   \n",
       "1      AE  United Arab Emirates   4798491.0   \n",
       "2      AF           Afghanistan  28400000.0   \n",
       "3      AG   Antigua and Barbuda     85632.0   \n",
       "4      AI              Anguilla     14436.0   \n",
       "\n",
       "                               geometry  \n",
       "0            POINT (1.601554 42.546245)  \n",
       "1           POINT (53.847818 23.424076)  \n",
       "2            POINT (67.709953 33.93911)  \n",
       "3  POINT (-61.79642800000001 17.060816)  \n",
       "4          POINT (-63.068615 18.220554)  "
      ]
     },
     "execution_count": 56,
     "metadata": {},
     "output_type": "execute_result"
    }
   ],
   "source": [
    "geo_export = gpd.GeoDataFrame(geo_df, crs=crs, geometry=pts)\n",
    "geo_export.head()"
   ]
  },
  {
   "cell_type": "markdown",
   "metadata": {
    "collapsed": true
   },
   "source": [
    "### Single File\n",
    "\n",
    "Add the classes as a list into the raw GeoJSON."
   ]
  },
  {
   "cell_type": "code",
   "execution_count": 57,
   "metadata": {
    "collapsed": true
   },
   "outputs": [],
   "source": [
    "import json\n",
    "country_json_str = geo_export.to_json()"
   ]
  },
  {
   "cell_type": "code",
   "execution_count": 58,
   "metadata": {},
   "outputs": [
    {
     "data": {
      "text/plain": [
       "dict_keys(['type', 'features'])"
      ]
     },
     "execution_count": 58,
     "metadata": {},
     "output_type": "execute_result"
    }
   ],
   "source": [
    "country_json = json.loads(country_json_str)\n",
    "country_json.keys()"
   ]
  },
  {
   "cell_type": "code",
   "execution_count": 59,
   "metadata": {},
   "outputs": [
    {
     "data": {
      "text/plain": [
       "{'geometry': {'coordinates': [1.6015540000000001, 42.546245], 'type': 'Point'},\n",
       " 'id': '0',\n",
       " 'properties': {'country': 'AD', 'name': 'Andorra', 'population': 83888.0},\n",
       " 'type': 'Feature'}"
      ]
     },
     "execution_count": 59,
     "metadata": {},
     "output_type": "execute_result"
    }
   ],
   "source": [
    "country_json['features'][0]"
   ]
  },
  {
   "cell_type": "code",
   "execution_count": 22,
   "metadata": {
    "collapsed": true
   },
   "outputs": [],
   "source": [
    "# each feature is saved in a features list.\n",
    "# we can use a simple list comprehension if we can use the ISO as a lookup key\n",
    "\n",
    "# create the lookup for said key\n"
   ]
  },
  {
   "cell_type": "code",
   "execution_count": 66,
   "metadata": {},
   "outputs": [
    {
     "data": {
      "text/html": [
       "<div>\n",
       "<style>\n",
       "    .dataframe thead tr:only-child th {\n",
       "        text-align: right;\n",
       "    }\n",
       "\n",
       "    .dataframe thead th {\n",
       "        text-align: left;\n",
       "    }\n",
       "\n",
       "    .dataframe tbody tr th {\n",
       "        vertical-align: top;\n",
       "    }\n",
       "</style>\n",
       "<table border=\"1\" class=\"dataframe\">\n",
       "  <thead>\n",
       "    <tr style=\"text-align: right;\">\n",
       "      <th></th>\n",
       "      <th>year</th>\n",
       "      <th>country</th>\n",
       "      <th>page</th>\n",
       "      <th>new_users</th>\n",
       "      <th>uniq_pg_views</th>\n",
       "      <th>pg_views</th>\n",
       "      <th>new_users_rate</th>\n",
       "      <th>uniq_pg_views_rate</th>\n",
       "      <th>pg_views_rate</th>\n",
       "    </tr>\n",
       "  </thead>\n",
       "  <tbody>\n",
       "    <tr>\n",
       "      <th>0</th>\n",
       "      <td>2017</td>\n",
       "      <td>BD</td>\n",
       "      <td>poetry-and-plays-2017</td>\n",
       "      <td>6975</td>\n",
       "      <td>8331</td>\n",
       "      <td>10151</td>\n",
       "      <td>4.469696e-05</td>\n",
       "      <td>5.338643e-05</td>\n",
       "      <td>6.504930e-05</td>\n",
       "    </tr>\n",
       "    <tr>\n",
       "      <th>1</th>\n",
       "      <td>2017</td>\n",
       "      <td>BD</td>\n",
       "      <td>fiction-and-nonfiction-2017</td>\n",
       "      <td>108</td>\n",
       "      <td>283</td>\n",
       "      <td>496</td>\n",
       "      <td>6.920820e-07</td>\n",
       "      <td>1.813511e-06</td>\n",
       "      <td>3.178450e-06</td>\n",
       "    </tr>\n",
       "    <tr>\n",
       "      <th>2</th>\n",
       "      <td>2016</td>\n",
       "      <td>BD</td>\n",
       "      <td>how-writers-write-fiction-2016</td>\n",
       "      <td>52</td>\n",
       "      <td>80</td>\n",
       "      <td>115</td>\n",
       "      <td>3.332246e-07</td>\n",
       "      <td>5.126533e-07</td>\n",
       "      <td>7.369391e-07</td>\n",
       "    </tr>\n",
       "    <tr>\n",
       "      <th>3</th>\n",
       "      <td>2016</td>\n",
       "      <td>BD</td>\n",
       "      <td>flash-write-2016</td>\n",
       "      <td>32</td>\n",
       "      <td>140</td>\n",
       "      <td>208</td>\n",
       "      <td>2.050613e-07</td>\n",
       "      <td>8.971433e-07</td>\n",
       "      <td>1.332899e-06</td>\n",
       "    </tr>\n",
       "    <tr>\n",
       "      <th>4</th>\n",
       "      <td>2015</td>\n",
       "      <td>BD</td>\n",
       "      <td>how-writers-write-fiction-2015</td>\n",
       "      <td>29</td>\n",
       "      <td>165</td>\n",
       "      <td>232</td>\n",
       "      <td>1.858368e-07</td>\n",
       "      <td>1.057347e-06</td>\n",
       "      <td>1.486695e-06</td>\n",
       "    </tr>\n",
       "  </tbody>\n",
       "</table>\n",
       "</div>"
      ],
      "text/plain": [
       "   year country                            page  new_users  uniq_pg_views  \\\n",
       "0  2017      BD           poetry-and-plays-2017       6975           8331   \n",
       "1  2017      BD     fiction-and-nonfiction-2017        108            283   \n",
       "2  2016      BD  how-writers-write-fiction-2016         52             80   \n",
       "3  2016      BD                flash-write-2016         32            140   \n",
       "4  2015      BD  how-writers-write-fiction-2015         29            165   \n",
       "\n",
       "   pg_views  new_users_rate  uniq_pg_views_rate  pg_views_rate  \n",
       "0     10151    4.469696e-05        5.338643e-05   6.504930e-05  \n",
       "1       496    6.920820e-07        1.813511e-06   3.178450e-06  \n",
       "2       115    3.332246e-07        5.126533e-07   7.369391e-07  \n",
       "3       208    2.050613e-07        8.971433e-07   1.332899e-06  \n",
       "4       232    1.858368e-07        1.057347e-06   1.486695e-06  "
      ]
     },
     "execution_count": 66,
     "metadata": {},
     "output_type": "execute_result"
    }
   ],
   "source": [
    "rate_df.head()"
   ]
  },
  {
   "cell_type": "code",
   "execution_count": 65,
   "metadata": {
    "collapsed": true
   },
   "outputs": [],
   "source": [
    "rate_df.drop(['population'], \n",
    "             axis=1, inplace=True)"
   ]
  },
  {
   "cell_type": "code",
   "execution_count": 67,
   "metadata": {
    "collapsed": true
   },
   "outputs": [],
   "source": [
    "list_of_classes = rate_df.to_dict('records')\n",
    "\n",
    "iso_lookup = {}\n",
    "\n",
    "for record in list_of_classes:\n",
    "    iso = record['country']\n",
    "    if (iso in iso_lookup):\n",
    "        iso_lookup[iso].append(record)\n",
    "    else:\n",
    "        iso_lookup[iso] = []\n",
    "        iso_lookup[iso].append(record)"
   ]
  },
  {
   "cell_type": "code",
   "execution_count": 68,
   "metadata": {
    "collapsed": true
   },
   "outputs": [],
   "source": [
    "for country in country_json['features']:\n",
    "    iso = country['properties']['country']\n",
    "    \n",
    "    if (iso in iso_lookup):\n",
    "        #print (iso, len(iso_lookup[iso]))\n",
    "        country['properties']['classes'] = iso_lookup[iso]\n",
    "    else:\n",
    "        country['properties']['classes'] = []"
   ]
  },
  {
   "cell_type": "code",
   "execution_count": 74,
   "metadata": {
    "collapsed": true
   },
   "outputs": [],
   "source": [
    "# filter out the countries with no classes\n",
    "country_json['features'] = [feat for feat in country_json['features'] if (len(feat['properties']['classes']) > 0)]"
   ]
  },
  {
   "cell_type": "code",
   "execution_count": 75,
   "metadata": {
    "collapsed": true
   },
   "outputs": [],
   "source": [
    "with open('../data/canonical/capital-classes.geojson', 'w') as outfile:\n",
    "    json.dump(country_json, outfile)"
   ]
  },
  {
   "cell_type": "code",
   "execution_count": null,
   "metadata": {
    "collapsed": true
   },
   "outputs": [],
   "source": []
  }
 ],
 "metadata": {
  "kernelspec": {
   "display_name": "Python 3",
   "language": "python",
   "name": "python3"
  },
  "language_info": {
   "codemirror_mode": {
    "name": "ipython",
    "version": 3
   },
   "file_extension": ".py",
   "mimetype": "text/x-python",
   "name": "python",
   "nbconvert_exporter": "python",
   "pygments_lexer": "ipython3",
   "version": "3.6.1"
  }
 },
 "nbformat": 4,
 "nbformat_minor": 2
}
