{
 "cells": [
  {
   "cell_type": "markdown",
   "metadata": {},
   "source": [
    "# First Round of Edits\n",
    "\n",
    "*June 19th, 2017*\n",
    "\n",
    "---\n",
    "\n",
    "From Natasa's email: \n",
    "\n",
    "> Meanwhile, this is what’ll be needed for starters:\n",
    "\n",
    "> • On both sites change View Website to  'View IWP site'. + I may give you a logo on Wed. \n",
    ">\n",
    "> On the Youth Programs Map  \n",
    ">   * link the name of the program Between the Lines to this page\n",
    ">   * The pop-ups now don’t contain the last name of the student. Leave this as is for now, but we may need to have it corrected eventually, to full name. \n",
    ">\n",
    "> On the Outreach Programs Map: \n",
    ">   * please choose a different background hue for clearer distinction against the Youth map, different-color points for the different programs, and let’s see what happens if you bold the country names.\n",
    ">   * Magnification:\n",
    ">     - produces an “afterglow” of City names, way larger than their original size, covering in most cases the country name. \n",
    ">     - loses the dot markers entirely.\n",
    ">   * Links inside the legend:\n",
    ">     1. Reading Tours\n",
    ">     2. International Conferences\n",
    ">     3. Distance Learning  (need to discuss this on Wednesday)\n",
    ">     4. Silk Routes \n",
    ">   * It would be ideal if there could be a filter for each category.\n",
    ">   * Can you switch the position of the magnifier and the Legend box? (so the magnifier is to the right of the Legend box).\n",
    "\n",
    "---"
   ]
  },
  {
   "cell_type": "markdown",
   "metadata": {},
   "source": [
    "### Done (Trivial)\n",
    "\n",
    "**Both Maps:**\n",
    "- ~~change View Website to 'View IWP site'.~~\n",
    "\n",
    "**Youth Programs Map:**\n",
    "- ~~link the name of the program Between the Lines~~\n",
    "- ~~The pop-ups now don’t contain the last name of the student.~~\n",
    "\n",
    "Link to [Youth Program Map](http://www.arcgis.com/apps/StoryMapBasic/index.html?appid=3cd5be0279d34d7a9ee2fc35aa56a27b)\n",
    "\n",
    "---"
   ]
  },
  {
   "cell_type": "markdown",
   "metadata": {},
   "source": [
    "### Currently\n",
    "\n",
    ">   * please choose a different background hue for clearer distinction against the Youth map, different-color points for the different programs, and let’s see what happens if you bold the country names.\n",
    "\n",
    "1. Changed hue to `dark canvas`, SEE: slim selection and little customization for ArcGIS basemaps.\n",
    "2. Different color points: \n",
    "    - Changed colors for each program type, do you mean different colors for *each* program? \n",
    "    - ArcGIS online variable selection, radius vs/ year\n",
    "3. `bold the country names`: ArcGIS won't allow customization of basemap labeling :(\n",
    "\n",
    "Link to the updated [Outreach Program Map](http://www.arcgis.com/apps/StoryMapBasic/index.html?appid=a4cd3f4a7c1d4b03bf78da712f0ab7c6)\n",
    "\n",
    "---"
   ]
  },
  {
   "cell_type": "markdown",
   "metadata": {},
   "source": [
    "### Future\n",
    "\n",
    "> It would be ideal if there could be a filter for each category.\n",
    "\n",
    "**Requires ArcGIS Developer or ArcGIS subscription.**\n",
    "\n",
    "Link to [Filterable Programs App](https://ui-iwp.maps.arcgis.com/apps/webappviewer/index.html?id=5c0435de367040c4887e2fb9a14ce9f5)\n",
    "\n",
    "~~Link to [Filterable Participant App](https://ui-iwp.maps.arcgis.com/apps/webappviewer/index.html?id=1a5fd3edbd63419eaf0fd55a7c1709f8)~~ - *Not implemented yet*\n",
    "\n",
    "> Links inside the legend...\n",
    "\n",
    "This solution (or something very close to it) is in the works. Final user interface stuff is a 'sandbox': ArcGIS makes it safe and easy to edit map UI's, but deviating from their templates is finnicky.\n",
    "\n",
    "> ...switch the position of the magnifier and the Legend box?\n",
    "\n",
    "Will do, but again requires a solid foundation of layout/map/features before committing to interface positioning."
   ]
  },
  {
   "cell_type": "code",
   "execution_count": null,
   "metadata": {
    "collapsed": true
   },
   "outputs": [],
   "source": []
  }
 ],
 "metadata": {
  "kernelspec": {
   "display_name": "Python 3",
   "language": "python",
   "name": "python3"
  },
  "language_info": {
   "codemirror_mode": {
    "name": "ipython",
    "version": 3
   },
   "file_extension": ".py",
   "mimetype": "text/x-python",
   "name": "python",
   "nbconvert_exporter": "python",
   "pygments_lexer": "ipython3",
   "version": "3.6.1"
  }
 },
 "nbformat": 4,
 "nbformat_minor": 2
}
